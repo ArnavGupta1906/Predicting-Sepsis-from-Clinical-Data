{
 "cells": [
  {
   "cell_type": "markdown",
   "metadata": {
    "slideshow": {
     "slide_type": "slide"
    },
    "variables": {
     "name": "Your Name MSc.",
     "subtitle": "Subtitle goes here",
     "title": "Title goes here"
    }
   },
   "source": [
    "<section id=\"title-slide\">\n",
    "<table class=\"kms\" border=\"0\"  width=\"100%\"  style=\"width:100%;text-align:center;\">\n",
    "  <tr>\n",
    "    <td width=\"99%\" align=\"center\" ><p class=\"fragment fade-down\" data-fragment-index=\"3\"><img src=\"./img/enic.jpg\" width=\"350\" height=\"350\" style=\"border-radius: 10px\"></p></td>\n",
    "    <td width=\"99%\" align=\"center\"><p class=\"fragment fade-up\" data-fragment-index=\"3\"><img src=\"./img/ibm.jpg\" width=\"350\" height=\"350\" style=\"border-radius: 10px\"></p></td> \n",
    "    <td width=\"99%\" align=\"center\"><p class=\"fragment fade-down\" data-fragment-index=\"3\"><img src=\"./img/uvt.jpg\" width=\"350\" height=\"350\" style=\"border-radius: 10px\"></p></td>\n",
    "  </tr>\n",
    "</table>\n",
    "    <br><h1><i><p class=\"fragment\" data-fragment-index=\"1\">Early Prediction of Sepsis From Clinical\n",
    "Data</p></i></h1>\n",
    "    <h4><i><p class=\"fragment\" data-fragment-index=\"1\">Master Degree in Computer Science\n",
    "Speciality : Data Science and Mobiquity</p></i></h4>\n",
    "    <br><br><br><br><br><br>\n",
    "    <div class=\"uu_title_container\">\n",
    "        <smaller>\n",
    "        <div class='column'><p class=\"fragment\" data-fragment-index=\"2\">\n",
    "            <b>Presented by:</b><br>Abdallah Khemais\n",
    "            </p></div>  \n",
    "        <div class='column'><p class=\"fragment\" data-fragment-index=\"2\">\n",
    "            <b>Academic guidance: </b> <br>Dr Walid Barhoumi\n",
    "            </p></div>    \n",
    "       </smaller>\n",
    "    </div>\n",
    "</section>"
   ]
  },
  {
   "cell_type": "markdown",
   "metadata": {
    "slideshow": {
     "slide_type": "slide"
    }
   },
   "source": [
    "<h2 ><p class=\"fragment fade-up\" data-fragment-index=\"1\"> MLP</p></h2>\n",
    "\n"
   ]
  },
  {
   "cell_type": "code",
   "execution_count": 49,
   "metadata": {
    "slideshow": {
     "slide_type": "subslide"
    }
   },
   "outputs": [],
   "source": [
    "import matplotlib.pyplot as plt\n",
    "import seaborn as sns\n",
    "import pandas as pd\n",
    "from sklearn import preprocessing\n",
    "from sklearn.model_selection import train_test_split"
   ]
  },
  {
   "cell_type": "code",
   "execution_count": 50,
   "metadata": {
    "slideshow": {
     "slide_type": "subslide"
    }
   },
   "outputs": [
    {
     "data": {
      "text/html": [
       "<div>\n",
       "<style scoped>\n",
       "    .dataframe tbody tr th:only-of-type {\n",
       "        vertical-align: middle;\n",
       "    }\n",
       "\n",
       "    .dataframe tbody tr th {\n",
       "        vertical-align: top;\n",
       "    }\n",
       "\n",
       "    .dataframe thead th {\n",
       "        text-align: right;\n",
       "    }\n",
       "</style>\n",
       "<table border=\"1\" class=\"dataframe\">\n",
       "  <thead>\n",
       "    <tr style=\"text-align: right;\">\n",
       "      <th></th>\n",
       "      <th>HR</th>\n",
       "      <th>O2Sat</th>\n",
       "      <th>Temp</th>\n",
       "      <th>SBP</th>\n",
       "      <th>MAP</th>\n",
       "      <th>DBP</th>\n",
       "      <th>Resp</th>\n",
       "      <th>EtCO2</th>\n",
       "      <th>BaseExcess</th>\n",
       "      <th>HCO3</th>\n",
       "      <th>...</th>\n",
       "      <th>WBC</th>\n",
       "      <th>Fibrinogen</th>\n",
       "      <th>Platelets</th>\n",
       "      <th>Age</th>\n",
       "      <th>Gender</th>\n",
       "      <th>Unit1</th>\n",
       "      <th>Unit2</th>\n",
       "      <th>HospAdmTime</th>\n",
       "      <th>ICULOS</th>\n",
       "      <th>SepsisLabel</th>\n",
       "    </tr>\n",
       "  </thead>\n",
       "  <tbody>\n",
       "    <tr>\n",
       "      <th>0</th>\n",
       "      <td>61.0</td>\n",
       "      <td>99.0</td>\n",
       "      <td>36.44</td>\n",
       "      <td>124.0</td>\n",
       "      <td>65.0</td>\n",
       "      <td>43.0</td>\n",
       "      <td>17.5</td>\n",
       "      <td>0.0</td>\n",
       "      <td>0.0</td>\n",
       "      <td>22.0</td>\n",
       "      <td>...</td>\n",
       "      <td>11.0</td>\n",
       "      <td>0.0</td>\n",
       "      <td>158.0</td>\n",
       "      <td>75.91</td>\n",
       "      <td>0</td>\n",
       "      <td>0.0</td>\n",
       "      <td>1.0</td>\n",
       "      <td>-98.6</td>\n",
       "      <td>2</td>\n",
       "      <td>0</td>\n",
       "    </tr>\n",
       "    <tr>\n",
       "      <th>1</th>\n",
       "      <td>64.0</td>\n",
       "      <td>98.0</td>\n",
       "      <td>36.44</td>\n",
       "      <td>125.0</td>\n",
       "      <td>64.0</td>\n",
       "      <td>41.0</td>\n",
       "      <td>27.0</td>\n",
       "      <td>0.0</td>\n",
       "      <td>0.0</td>\n",
       "      <td>22.0</td>\n",
       "      <td>...</td>\n",
       "      <td>11.0</td>\n",
       "      <td>0.0</td>\n",
       "      <td>158.0</td>\n",
       "      <td>75.91</td>\n",
       "      <td>0</td>\n",
       "      <td>0.0</td>\n",
       "      <td>1.0</td>\n",
       "      <td>-98.6</td>\n",
       "      <td>3</td>\n",
       "      <td>0</td>\n",
       "    </tr>\n",
       "    <tr>\n",
       "      <th>2</th>\n",
       "      <td>56.0</td>\n",
       "      <td>100.0</td>\n",
       "      <td>36.44</td>\n",
       "      <td>123.0</td>\n",
       "      <td>65.0</td>\n",
       "      <td>41.0</td>\n",
       "      <td>9.0</td>\n",
       "      <td>0.0</td>\n",
       "      <td>0.0</td>\n",
       "      <td>22.0</td>\n",
       "      <td>...</td>\n",
       "      <td>11.0</td>\n",
       "      <td>0.0</td>\n",
       "      <td>158.0</td>\n",
       "      <td>75.91</td>\n",
       "      <td>0</td>\n",
       "      <td>0.0</td>\n",
       "      <td>1.0</td>\n",
       "      <td>-98.6</td>\n",
       "      <td>4</td>\n",
       "      <td>0</td>\n",
       "    </tr>\n",
       "    <tr>\n",
       "      <th>3</th>\n",
       "      <td>66.0</td>\n",
       "      <td>99.0</td>\n",
       "      <td>36.22</td>\n",
       "      <td>120.0</td>\n",
       "      <td>67.0</td>\n",
       "      <td>43.0</td>\n",
       "      <td>23.0</td>\n",
       "      <td>0.0</td>\n",
       "      <td>0.0</td>\n",
       "      <td>22.0</td>\n",
       "      <td>...</td>\n",
       "      <td>11.0</td>\n",
       "      <td>0.0</td>\n",
       "      <td>158.0</td>\n",
       "      <td>75.91</td>\n",
       "      <td>0</td>\n",
       "      <td>0.0</td>\n",
       "      <td>1.0</td>\n",
       "      <td>-98.6</td>\n",
       "      <td>5</td>\n",
       "      <td>0</td>\n",
       "    </tr>\n",
       "    <tr>\n",
       "      <th>4</th>\n",
       "      <td>94.0</td>\n",
       "      <td>100.0</td>\n",
       "      <td>36.22</td>\n",
       "      <td>194.0</td>\n",
       "      <td>116.0</td>\n",
       "      <td>66.0</td>\n",
       "      <td>14.0</td>\n",
       "      <td>0.0</td>\n",
       "      <td>0.0</td>\n",
       "      <td>22.0</td>\n",
       "      <td>...</td>\n",
       "      <td>11.0</td>\n",
       "      <td>0.0</td>\n",
       "      <td>158.0</td>\n",
       "      <td>75.91</td>\n",
       "      <td>0</td>\n",
       "      <td>0.0</td>\n",
       "      <td>1.0</td>\n",
       "      <td>-98.6</td>\n",
       "      <td>6</td>\n",
       "      <td>0</td>\n",
       "    </tr>\n",
       "  </tbody>\n",
       "</table>\n",
       "<p>5 rows × 41 columns</p>\n",
       "</div>"
      ],
      "text/plain": [
       "     HR  O2Sat   Temp    SBP    MAP   DBP  Resp  EtCO2  BaseExcess  HCO3  ...  \\\n",
       "0  61.0   99.0  36.44  124.0   65.0  43.0  17.5    0.0         0.0  22.0  ...   \n",
       "1  64.0   98.0  36.44  125.0   64.0  41.0  27.0    0.0         0.0  22.0  ...   \n",
       "2  56.0  100.0  36.44  123.0   65.0  41.0   9.0    0.0         0.0  22.0  ...   \n",
       "3  66.0   99.0  36.22  120.0   67.0  43.0  23.0    0.0         0.0  22.0  ...   \n",
       "4  94.0  100.0  36.22  194.0  116.0  66.0  14.0    0.0         0.0  22.0  ...   \n",
       "\n",
       "    WBC  Fibrinogen  Platelets    Age  Gender  Unit1  Unit2  HospAdmTime  \\\n",
       "0  11.0         0.0      158.0  75.91       0    0.0    1.0        -98.6   \n",
       "1  11.0         0.0      158.0  75.91       0    0.0    1.0        -98.6   \n",
       "2  11.0         0.0      158.0  75.91       0    0.0    1.0        -98.6   \n",
       "3  11.0         0.0      158.0  75.91       0    0.0    1.0        -98.6   \n",
       "4  11.0         0.0      158.0  75.91       0    0.0    1.0        -98.6   \n",
       "\n",
       "   ICULOS  SepsisLabel  \n",
       "0       2            0  \n",
       "1       3            0  \n",
       "2       4            0  \n",
       "3       5            0  \n",
       "4       6            0  \n",
       "\n",
       "[5 rows x 41 columns]"
      ]
     },
     "execution_count": 50,
     "metadata": {},
     "output_type": "execute_result"
    }
   ],
   "source": [
    "dataset = pd.read_csv(\"sepsis_data.csv\")\n",
    "dataset.head()"
   ]
  },
  {
   "cell_type": "code",
   "execution_count": 51,
   "metadata": {
    "slideshow": {
     "slide_type": "subslide"
    }
   },
   "outputs": [],
   "source": [
    "from sklearn.utils import resample\n",
    "\n",
    "#resample the data \n",
    "df_majority = dataset[dataset.SepsisLabel==0]\n",
    "df_minority = dataset[dataset.SepsisLabel==1]\n",
    "\n",
    "df_minority_upsampled = resample(df_minority, \n",
    "                                 replace=True,     # sample with replacement\n",
    "                                 n_samples=57070,    # to match majority class\n",
    "                                 random_state=123) # reproducible results\n",
    "\n",
    "df_upsampled = pd.concat([df_majority, df_minority_upsampled])\n",
    "X = df_upsampled[df_upsampled.columns[0:40]].values\n",
    "Y = df_upsampled[df_upsampled.columns[40:]].values\n",
    "\n",
    "#get the train and test data\n",
    "X_train, X_test, Y_train, Y_test = train_test_split(X, Y, test_size=0.20, random_state=0)"
   ]
  },
  {
   "cell_type": "code",
   "execution_count": 52,
   "metadata": {
    "slideshow": {
     "slide_type": "subslide"
    }
   },
   "outputs": [
    {
     "name": "stdout",
     "output_type": "stream",
     "text": [
      "0.9731470124408621\n"
     ]
    }
   ],
   "source": [
    "#showing the results\n",
    "import pickle\n",
    "filename = 'finalized_model2.sav'\n",
    "loaded_model = pickle.load(open(filename, 'rb'))\n",
    "result = loaded_model.score(X_test, Y_test)\n",
    "print(result)"
   ]
  },
  {
   "cell_type": "code",
   "execution_count": 5,
   "metadata": {
    "slideshow": {
     "slide_type": "subslide"
    }
   },
   "outputs": [
    {
     "data": {
      "image/png": "[encoded data removed]",
      "text/plain": [
       "<Figure size 432x288 with 2 Axes>"
      ]
     },
     "metadata": {
      "needs_background": "light"
     },
     "output_type": "display_data"
    }
   ],
   "source": [
    "from sklearn.metrics import confusion_matrix ,ConfusionMatrixDisplay\n",
    "predicted = loaded_model.predict(X_test)\n",
    "cm=confusion_matrix(Y_test,predicted)\n",
    "disp=ConfusionMatrixDisplay(confusion_matrix=cm,display_labels=loaded_model.classes_)\n",
    "disp.plot()\n",
    "plt.show()"
   ]
  },
  {
   "cell_type": "code",
   "execution_count": 47,
   "metadata": {
    "slideshow": {
     "slide_type": "subslide"
    }
   },
   "outputs": [],
   "source": [
    "def plot_ROC(y_test, y_score, n_classes=2):\n",
    "    from sklearn.metrics import precision_score, classification_report,average_precision_score, accuracy_score, balanced_accuracy_score, precision_recall_curve, f1_score, auc, roc_curve\n",
    "    # Compute ROC curve and ROC area for each class\n",
    "    fpr = dict()\n",
    "    tpr = dict()\n",
    "    roc_auc = dict()\n",
    "    fpr['positive'], tpr['positive'], _ = roc_curve(y_test, y_score)\n",
    "    roc_auc['positive'] = auc(fpr['positive'], tpr['positive'])\n",
    "\n",
    "    # Compute micro-average ROC curve and ROC area\n",
    "    fpr[\"micro\"], tpr[\"micro\"], _ = roc_curve(y_test.ravel(), y_score.ravel())\n",
    "    roc_auc[\"micro\"] = auc(fpr[\"micro\"], tpr[\"micro\"])\n",
    "    \n",
    "    plt.figure()\n",
    "    lw = 2\n",
    "    plt.plot(fpr['positive'], tpr['positive'], color='darkorange',\n",
    "             lw=lw, label='ROC curve (area = %0.2f)' % roc_auc['positive'])\n",
    "    plt.plot([0, 1], [0, 1], color='navy', lw=lw, linestyle='--')\n",
    "    plt.xlim([0.0, 1.0])\n",
    "    plt.ylim([0.0, 1.05])\n",
    "    plt.xlabel('False Positive Rate')\n",
    "    plt.ylabel('True Positive Rate')\n",
    "    plt.title('Receiver operating characteristic curve')\n",
    "    plt.legend(loc=\"lower right\")\n",
    "    plt.show()"
   ]
  },
  {
   "cell_type": "code",
   "execution_count": 48,
   "metadata": {
    "slideshow": {
     "slide_type": "subslide"
    }
   },
   "outputs": [
    {
     "data": {
      "image/png": "[encoded data removed]",
      "text/plain": [
       "<Figure size 432x288 with 1 Axes>"
      ]
     },
     "metadata": {
      "needs_background": "light"
     },
     "output_type": "display_data"
    }
   ],
   "source": [
    "plot_ROC(Y_test,yhat_probas[:,1])"
   ]
  },
  {
   "cell_type": "markdown",
   "metadata": {
    "slideshow": {
     "slide_type": "slide"
    },
    "variables": {
     "footer_html": "<div class='footer'>Name of Event | Title goes here | 26-02-2021</div>"
    }
   },
   "source": [
    "<h1 ><p class=\"fragment fade-up\" data-fragment-index=\"1\"><span class=\"presentation_title\">5 Conclusion & Future Scope</span></p></h1>\n",
    " </div>  \n",
    "    <div class='column' id='frame'>\n",
    "        <br><br><br>\n",
    "        <center><img id=\"undraw_col_img\" src=\"./img/undraw_lightbulb.svg\"></center>\n",
    "    </div>\n",
    "       \n"
   ]
  },
  {
   "cell_type": "markdown",
   "metadata": {
    "slideshow": {
     "slide_type": "slide"
    },
    "variables": {}
   },
   "source": [
    "## References\n",
    "\n",
    "<div class=\"footer\">These slides were made using <a href=\"https://github.com/damianavila/RISE\"><code>RISE</code></a>, <a href=\"https://fonts.google.com/\">Google Fonts</a> and <a href=\"https://undraw.co\">Undraw Illustrations</a></div>"
   ]
  }
 ],
 "metadata": {
  "celltoolbar": "Diaporama",
  "kernelspec": {
   "display_name": "Python 3",
   "language": "python",
   "name": "python3"
  },
  "language_info": {
   "codemirror_mode": {
    "name": "ipython",
    "version": 3
   },
   "file_extension": ".py",
   "mimetype": "text/x-python",
   "name": "python",
   "nbconvert_exporter": "python",
   "pygments_lexer": "ipython3",
   "version": "3.7.6"
  },
  "notify_time": "5",
  "rise": {
   "center": true
  },
  "toc": {
   "base_numbering": 1,
   "nav_menu": {},
   "number_sections": true,
   "sideBar": true,
   "skip_h1_title": true,
   "title_cell": "Table of Contents",
   "title_sidebar": "Contents",
   "toc_cell": false,
   "toc_position": {},
   "toc_section_display": true,
   "toc_window_display": false
  },
  "varInspector": {
   "cols": {
    "lenName": 16,
    "lenType": 16,
    "lenVar": 40
   },
   "kernels_config": {
    "python": {
     "delete_cmd_postfix": "",
     "delete_cmd_prefix": "del ",
     "library": "var_list.py",
     "varRefreshCmd": "print(var_dic_list())"
    },
    "r": {
     "delete_cmd_postfix": ") ",
     "delete_cmd_prefix": "rm(",
     "library": "var_list.r",
     "varRefreshCmd": "cat(var_dic_list()) "
    }
   },
   "types_to_exclude": [
    "module",
    "function",
    "builtin_function_or_method",
    "instance",
    "_Feature"
   ],
   "window_display": false
  }
 },
 "nbformat": 4,
 "nbformat_minor": 2
}
